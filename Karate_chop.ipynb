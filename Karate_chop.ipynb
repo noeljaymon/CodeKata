{
  "nbformat": 4,
  "nbformat_minor": 0,
  "metadata": {
    "colab": {
      "name": "Karate_chop.ipynb",
      "provenance": [],
      "collapsed_sections": [],
      "authorship_tag": "ABX9TyMUl+3ReKlPE42XKmTIJLt8",
      "include_colab_link": true
    },
    "kernelspec": {
      "name": "python3",
      "display_name": "Python 3"
    }
  },
  "cells": [
    {
      "cell_type": "markdown",
      "metadata": {
        "id": "view-in-github",
        "colab_type": "text"
      },
      "source": [
        "<a href=\"https://colab.research.google.com/github/noeljaymon/CodeKata/blob/main/Karate_chop.ipynb\" target=\"_parent\"><img src=\"https://colab.research.google.com/assets/colab-badge.svg\" alt=\"Open In Colab\"/></a>"
      ]
    },
    {
      "cell_type": "markdown",
      "metadata": {
        "id": "rf_Tk6Co8IBl"
      },
      "source": [
        "Binary Search"
      ]
    },
    {
      "cell_type": "code",
      "metadata": {
        "id": "L3onnEZqVIg9"
      },
      "source": [
        "def chop(target, list):\n",
        "  lo = 0\n",
        "  hi = len(list)-1\n",
        "  while lo <= hi:\n",
        "    mid = lo + (hi - lo) // 2; \n",
        "      \n",
        "    # Check if x is present at mid \n",
        "    if list[mid] == target: \n",
        "      print(\"%d is at %d\"%(target,mid))\n",
        "    \n",
        "      return mid\n",
        "\n",
        "\n",
        "    # If x is greater, ignore left half \n",
        "    elif list[mid] < target: \n",
        "        lo = mid + 1\n",
        "\n",
        "    # If x is smaller, ignore right half \n",
        "    else: \n",
        "        hi = mid - 1\n",
        "  \n",
        "# If we reach here, then the element \n",
        "# was not present \n",
        "  return -1\n",
        "          \n"
      ],
      "execution_count": 227,
      "outputs": []
    },
    {
      "cell_type": "markdown",
      "metadata": {
        "id": "q3STJCBY5bnk"
      },
      "source": [
        "Iterative Approach\n"
      ]
    },
    {
      "cell_type": "code",
      "metadata": {
        "id": "2D0tFcuhbJK2"
      },
      "source": [
        "def chop(target, list):\n",
        "  i=0;\n",
        "  while(i<len(list)):\n",
        "\n",
        "    if (target not in list or not list):\n",
        "      print(\" %d Not Present\"%target)\n",
        "      return -1;\n",
        "    elif target==list[i]:\n",
        "      print(\"position of %d is at %d\"%(target,i))\n",
        "      return i;\n",
        "    else:\n",
        "      i=i+1;\n",
        "\n"
      ],
      "execution_count": 232,
      "outputs": []
    },
    {
      "cell_type": "markdown",
      "metadata": {
        "id": "8whj2SYK3UTM"
      },
      "source": [
        "Test Cases\n"
      ]
    },
    {
      "cell_type": "code",
      "metadata": {
        "id": "9GLw2e66Zy1S",
        "outputId": "c1c4ed29-a999-40f7-ee8a-ee98af89a227",
        "colab": {
          "base_uri": "https://localhost:8080/",
          "height": 358
        }
      },
      "source": [
        "print(\"PRESENT IN LIST EXAMPLES\")\n",
        "chop(1, [1])\n",
        "chop(1, [1, 3, 5])\n",
        "chop(3, [1, 3, 5])\n",
        "chop(5, [1, 3, 5])\n",
        "chop(1, [1, 3, 5, 7])\n",
        "chop(3, [1, 3, 5, 7])\n",
        "chop(5, [1, 3, 5, 7])\n",
        "chop(7, [1, 3, 5, 7])\n",
        "print(\"NOT PRESENT IN LIST EXAMPLES\")\n",
        "chop(3,[])\n",
        "chop(3, [1])\n",
        "chop(0, [1, 3, 5])\n",
        "chop(2, [1, 3, 5])\n",
        "chop(4, [1, 3, 5])\n",
        "chop(6, [1, 3, 5])\n",
        "chop(0, [1, 3, 5, 7])\n",
        "chop(2, [1, 3, 5, 7])\n",
        "chop(4, [1, 3, 5, 7])\n",
        "chop(6, [1, 3, 5, 7])\n",
        "chop(8, [1, 3, 5, 7])"
      ],
      "execution_count": 233,
      "outputs": [
        {
          "output_type": "stream",
          "text": [
            "PRESENT IN LIST EXAMPLES\n",
            "position of 1 is at 0\n",
            "position of 1 is at 0\n",
            "position of 3 is at 1\n",
            "position of 5 is at 2\n",
            "position of 1 is at 0\n",
            "position of 3 is at 1\n",
            "position of 5 is at 2\n",
            "position of 7 is at 3\n",
            "NOT PRESENT IN LIST EXAMPLES\n",
            " 3 Not Present\n",
            " 0 Not Present\n",
            " 2 Not Present\n",
            " 4 Not Present\n",
            " 6 Not Present\n",
            " 0 Not Present\n",
            " 2 Not Present\n",
            " 4 Not Present\n",
            " 6 Not Present\n",
            " 8 Not Present\n"
          ],
          "name": "stdout"
        },
        {
          "output_type": "execute_result",
          "data": {
            "text/plain": [
              "-1"
            ]
          },
          "metadata": {
            "tags": []
          },
          "execution_count": 233
        }
      ]
    }
  ]
}