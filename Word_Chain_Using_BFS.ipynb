{
  "nbformat": 4,
  "nbformat_minor": 0,
  "metadata": {
    "colab": {
      "name": "Word Chain Using BFS.ipynb",
      "provenance": [],
      "authorship_tag": "ABX9TyPBbNPrUp2OaQtSHRxPm9Y+",
      "include_colab_link": true
    },
    "kernelspec": {
      "name": "python3",
      "display_name": "Python 3"
    }
  },
  "cells": [
    {
      "cell_type": "markdown",
      "metadata": {
        "id": "view-in-github",
        "colab_type": "text"
      },
      "source": [
        "<a href=\"https://colab.research.google.com/github/noeljaymon/CodeKata/blob/main/Word_Chain_Using_BFS.ipynb\" target=\"_parent\"><img src=\"https://colab.research.google.com/assets/colab-badge.svg\" alt=\"Open In Colab\"/></a>"
      ]
    },
    {
      "cell_type": "code",
      "metadata": {
        "id": "hnPBq6KxT_f5"
      },
      "source": [
        "from collections import deque\n",
        "from string import ascii_lowercase"
      ],
      "execution_count": 30,
      "outputs": []
    },
    {
      "cell_type": "code",
      "metadata": {
        "id": "aMD47RNtWTpC"
      },
      "source": [
        "def find_neighbours(word,word_set):\n",
        "  neighbours = set()\n",
        "#add\n",
        "  for i in range(len(word)+1):\n",
        "    for l in ascii_lowercase:\n",
        "      new_word=word[:i]+l+word[i:]\n",
        "      if new_word in word_set:neighbours.add(new_word)\n",
        "#remove\n",
        "  for i in range(len(word)+1):\n",
        "    new_word=word[:i]+word[i+1:]\n",
        "    if new_word in word_set:neighbours.add(new_word)\n",
        "#change\n",
        "  for i in range(len(word)+1):\n",
        "    for l in ascii_lowercase:\n",
        "      new_word=word[:i]+l+word[i+1:]\n",
        "      if new_word in word_set:neighbours.add(new_word)\n",
        "  return neighbours\n"
      ],
      "execution_count": 18,
      "outputs": []
    },
    {
      "cell_type": "code",
      "metadata": {
        "id": "6iYP5ylUhfwy"
      },
      "source": [
        "word_set=('cat','cot','bat','fat','cog','dog','flood','blood','glood','gloom')"
      ],
      "execution_count": 44,
      "outputs": []
    },
    {
      "cell_type": "code",
      "metadata": {
        "id": "jOmJLLZyapsh",
        "outputId": "47a92003-c8e3-41ab-ce82-6f35eebcd47c",
        "colab": {
          "base_uri": "https://localhost:8080/",
          "height": 33
        }
      },
      "source": [
        "print(find_neighbours(\"cog\",word_set))"
      ],
      "execution_count": 70,
      "outputs": [
        {
          "output_type": "stream",
          "text": [
            "{'cog', 'cot', 'dog'}\n"
          ],
          "name": "stdout"
        }
      ]
    },
    {
      "cell_type": "code",
      "metadata": {
        "id": "vyCaZ6pHa7zv"
      },
      "source": [
        "def find_chain(start,end,word_set):\n",
        "  queue=deque([start])\n",
        "  backtrack={start:None}\n",
        "  while queue:\n",
        "    current_word=queue.popleft()\n",
        "    neighbours=find_neighbours(current_word,word_set)\n",
        "    for neighbour in neighbours:\n",
        "      if neighbour not in backtrack:\n",
        "        backtrack[neighbour]=current_word\n",
        "        queue.append(neighbour)\n",
        "    if end in backtrack:\n",
        "      break\n",
        "  if end in backtrack:\n",
        "    chain=[]\n",
        "    current_word=end\n",
        "    while current_word is not None:\n",
        "      chain.append(current_word)\n",
        "      current_word=backtrack[current_word]\n",
        "    chain.reverse()\n",
        "    return chain\n",
        "  else :\n",
        "    return None\n"
      ],
      "execution_count": 42,
      "outputs": []
    },
    {
      "cell_type": "code",
      "metadata": {
        "id": "wyR9qADPlc1I",
        "outputId": "c890d60a-dd7b-442f-ca06-b55c7f50aa42",
        "colab": {
          "base_uri": "https://localhost:8080/",
          "height": 33
        }
      },
      "source": [
        "print(find_chain('cat','dog',word_set))"
      ],
      "execution_count": 48,
      "outputs": [
        {
          "output_type": "stream",
          "text": [
            "['cat', 'cot', 'cog', 'dog']\n"
          ],
          "name": "stdout"
        }
      ]
    },
    {
      "cell_type": "code",
      "metadata": {
        "id": "jl31fczKlsHr"
      },
      "source": [
        "queue=deque(['cat'])"
      ],
      "execution_count": 62,
      "outputs": []
    },
    {
      "cell_type": "code",
      "metadata": {
        "id": "hWFbfftLo5bx"
      },
      "source": [
        "current_word=queue.popleft()\n",
        "backtrack={'cat':None}"
      ],
      "execution_count": 63,
      "outputs": []
    },
    {
      "cell_type": "code",
      "metadata": {
        "id": "cw4TMDLdo6jH"
      },
      "source": [
        "backtrack['cot']=current_word"
      ],
      "execution_count": 64,
      "outputs": []
    },
    {
      "cell_type": "code",
      "metadata": {
        "id": "-7mmr-aRpy3U",
        "outputId": "632b46f1-4075-46d2-b689-a299f162eb7a",
        "colab": {
          "base_uri": "https://localhost:8080/",
          "height": 33
        }
      },
      "source": [
        "backtrack"
      ],
      "execution_count": 65,
      "outputs": [
        {
          "output_type": "execute_result",
          "data": {
            "text/plain": [
              "{'cat': None, 'cot': 'cat'}"
            ]
          },
          "metadata": {
            "tags": []
          },
          "execution_count": 65
        }
      ]
    },
    {
      "cell_type": "code",
      "metadata": {
        "id": "X_iI5rczp8vX"
      },
      "source": [
        "queue.append('cot')"
      ],
      "execution_count": 67,
      "outputs": []
    },
    {
      "cell_type": "code",
      "metadata": {
        "id": "kuM2DBE2qbDp",
        "outputId": "b0979b20-18e6-4d43-ec1b-fe9ec97d9915",
        "colab": {
          "base_uri": "https://localhost:8080/",
          "height": 33
        }
      },
      "source": [
        "queue"
      ],
      "execution_count": 68,
      "outputs": [
        {
          "output_type": "execute_result",
          "data": {
            "text/plain": [
              "deque(['cot'])"
            ]
          },
          "metadata": {
            "tags": []
          },
          "execution_count": 68
        }
      ]
    }
  ]
}